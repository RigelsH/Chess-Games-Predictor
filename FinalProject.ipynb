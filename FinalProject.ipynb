{
 "cells": [
  {
   "cell_type": "markdown",
   "id": "61e407c0",
   "metadata": {},
   "source": [
    "# **Predicting the outcomes of chess games**\n",
    "### Author: Rigels Hita"
   ]
  },
  {
   "cell_type": "markdown",
   "id": "b46bd627",
   "metadata": {},
   "source": [
    "##   1. Introduction\n",
    "\n",
    "The problem we are trying to solve in this notebook is to predict the outcome of a chess game. Given a set of chess games in the PGN format, we will use machine learning techniques to build a model that can predict the winner of a game. We will be using the dataset \"10000 Chess games with centipawn loss\", which contains 10000 chess games with various chess moves.\n",
    "\n",
    "The libraries we will be using in this notebook include pandas, numpy, and scikit-learn. Pandas will be used for data manipulation and cleaning, numpy will be used for numerical computations and scikit-learn will be used for building and evaluating machine learning models.\n",
    "\n",
    "During this project different machine learning models such as Logistic Regression, Random Forest and Decision Tree Classifier will be explored to predict the winner of a chess game. Some hyperparameter tuning will take place to find the optimal values.\n",
    "\n",
    "To evaluate the performance of our model, we will be using classification metrics such as accuracy, precision, recall and F1-score. We will be using a hold-out test set to evaluate the model performance and will compare the performance of different models to decide which one is the best."
   ]
  },
  {
   "cell_type": "markdown",
   "id": "1ba6e730",
   "metadata": {},
   "source": [
    "# 2. Dataset characterization \n"
   ]
  },
  {
   "cell_type": "markdown",
   "id": "7f899582",
   "metadata": {},
   "source": [
    "The dataset consists of 10000+ chess games played between chess players under FIDE(International Chess Federation)rules.It contains some interesting columns(features) that may be proven useful for our machine learning models to predict the outcome of chess games.The 'Results' column is going to be our label and its rows represent the outcome of the chess game.\n",
    "- Result: 0 white wins, 1-draw, 2-black wins."
   ]
  },
  {
   "cell_type": "markdown",
   "id": "53803931",
   "metadata": {},
   "source": [
    "# 3. Data preprocessing"
   ]
  },
  {
   "cell_type": "markdown",
   "id": "734d0f05",
   "metadata": {},
   "source": [
    "### 3.1 Importing Libraries"
   ]
  },
  {
   "cell_type": "markdown",
   "id": "118f7e38",
   "metadata": {},
   "source": [
    "- NumPy is a library that is used for working with large arrays and matrices of numerical data, as well as for performing mathematical operations on these arrays. It provides functions for performing operations such as mathematical, logical, shape manipulation, sorting, selecting, basic linear algebra, basic statistical operations, etc.\n",
    "\n",
    "- Pandas is a library that is used for data manipulation and analysis. It provides functions for reading and writing data, handling missing data, and manipulating data in a variety of ways, such as merging, reshaping, and aggregating data. It also provides powerful data structures such as DataFrame and Series for handling and analyzing data.\n",
    "\n",
    "- Matplotlib and Seaborn are used to create visualizations of the data. These plots can be helpful for understanding the characteristics of the data and for identifying patterns or trends.\n",
    "\n",
    "- SciPy is a library built on top of NumPy and provides a collection of mathematical algorithms and functions such as optimization,linear algebra,signal and image processing, etc. It also provides a number of high-level functions that are built on top of the lower-level NumPy and SciPy functions, making it easy to perform common tasks such as fitting models to data, solving differential equations, and optimization.\n",
    "\n",
    "- Scikit-learn is a library that is used for machine learning tasks such as classification, regression, clustering, and dimensionality reduction. \n",
    "\n",
    "- The warnings library in Python is used to issue warnings to the user about potential problems or situations that may arise in their code. In this case it will be used to suppress warning messages that may be generated while running the code."
   ]
  },
  {
   "cell_type": "code",
   "execution_count": 1,
   "id": "868fbad4",
   "metadata": {},
   "outputs": [],
   "source": [
    "import numpy as np\n",
    "import pandas as pd \n",
    "import seaborn as sns\n",
    "import matplotlib.pyplot as plt \n",
    "from scipy import stats\n",
    "from sklearn.model_selection import train_test_split,GridSearchCV\n",
    "from sklearn.tree import DecisionTreeClassifier\n",
    "from sklearn import tree\n",
    "from sklearn.metrics import accuracy_score,confusion_matrix\n",
    "from sklearn.preprocessing import LabelEncoder\n",
    "from sklearn.ensemble import RandomForestClassifier\n",
    "from sklearn.svm import SVC\n",
    "from sklearn.linear_model import LogisticRegression\n",
    "from sklearn.metrics import classification_report\n",
    "from sklearn.model_selection import cross_val_score\n",
    "\n",
    "\n",
    "import warnings\n",
    "warnings.filterwarnings('ignore')\n"
   ]
  },
  {
   "cell_type": "markdown",
   "id": "f0e8f3cf",
   "metadata": {},
   "source": [
    "### 3.2 Importing Data "
   ]
  },
  {
   "cell_type": "markdown",
   "id": "bdb98483",
   "metadata": {},
   "source": [
    "- Dataset is loaded into a pandas dataframe\n",
    "- The first five rows of the dataframe are displayed using the head() function.\n",
    "- value.counts() function is used to check how many chess games has white won, black won or ended in a draw"
   ]
  },
  {
   "cell_type": "code",
   "execution_count": 2,
   "id": "f287a8bc",
   "metadata": {},
   "outputs": [],
   "source": [
    "data=pd.read_csv('C:/Users/Rigels/FinalProject/10480_games_with_centipawn_metrics.csv')#loading the data into a pandas df"
   ]
  },
  {
   "cell_type": "code",
   "execution_count": 3,
   "id": "6e8a99f7",
   "metadata": {
    "scrolled": true
   },
   "outputs": [
    {
     "data": {
      "text/html": [
       "<div>\n",
       "<style scoped>\n",
       "    .dataframe tbody tr th:only-of-type {\n",
       "        vertical-align: middle;\n",
       "    }\n",
       "\n",
       "    .dataframe tbody tr th {\n",
       "        vertical-align: top;\n",
       "    }\n",
       "\n",
       "    .dataframe thead th {\n",
       "        text-align: right;\n",
       "    }\n",
       "</style>\n",
       "<table border=\"1\" class=\"dataframe\">\n",
       "  <thead>\n",
       "    <tr style=\"text-align: right;\">\n",
       "      <th></th>\n",
       "      <th>Unnamed: 0</th>\n",
       "      <th>Date</th>\n",
       "      <th>Event Name</th>\n",
       "      <th>Event Rounds</th>\n",
       "      <th>Round</th>\n",
       "      <th>White Name</th>\n",
       "      <th>Black Name</th>\n",
       "      <th>Result</th>\n",
       "      <th>White ELO</th>\n",
       "      <th>Black ELO</th>\n",
       "      <th>Moves</th>\n",
       "      <th>White Av CP Loss</th>\n",
       "      <th>Black Av CP Loss</th>\n",
       "      <th>Evaluations List</th>\n",
       "      <th>White CP Loss List</th>\n",
       "      <th>Black CP Loss List</th>\n",
       "      <th>PGN</th>\n",
       "      <th>Analysis Depth</th>\n",
       "      <th>White Expected Rating by ACPL</th>\n",
       "      <th>Black Expected Rating by ACPL</th>\n",
       "    </tr>\n",
       "  </thead>\n",
       "  <tbody>\n",
       "    <tr>\n",
       "      <th>0</th>\n",
       "      <td>0</td>\n",
       "      <td>3/28/2018</td>\n",
       "      <td>Philadelphia op 12th</td>\n",
       "      <td>9</td>\n",
       "      <td>1</td>\n",
       "      <td>Niemann, Hans Moke</td>\n",
       "      <td>Oberoi, Shelev</td>\n",
       "      <td>0</td>\n",
       "      <td>2302.0</td>\n",
       "      <td>1924.0</td>\n",
       "      <td>39.0</td>\n",
       "      <td>22.0</td>\n",
       "      <td>46.0</td>\n",
       "      <td>[47, 43, 44, -9, 17, 10, 5, 0, 12, -30, -13, -...</td>\n",
       "      <td>[4, 53, 7, 5, 42, 38, 0, 13, 135, 0, 0, 5, 0, ...</td>\n",
       "      <td>[1, 26, 0, 12, 17, 10, 19, 14, 35, 12, 10, 11,...</td>\n",
       "      <td>[Event \"Philadelphia op 12th\"]\\n[Site \"Philade...</td>\n",
       "      <td>20.0</td>\n",
       "      <td>NaN</td>\n",
       "      <td>NaN</td>\n",
       "    </tr>\n",
       "    <tr>\n",
       "      <th>1</th>\n",
       "      <td>0</td>\n",
       "      <td>3/29/2018</td>\n",
       "      <td>Philadelphia op 12th</td>\n",
       "      <td>9</td>\n",
       "      <td>2</td>\n",
       "      <td>Niemann, Hans Moke</td>\n",
       "      <td>Popilski, Gil</td>\n",
       "      <td>1</td>\n",
       "      <td>2302.0</td>\n",
       "      <td>2502.0</td>\n",
       "      <td>36.0</td>\n",
       "      <td>12.0</td>\n",
       "      <td>13.0</td>\n",
       "      <td>[46, 36, 46, 35, 50, 36, 62, 47, 59, 38, 57, 5...</td>\n",
       "      <td>[10, 11, 14, 15, 21, 1, 31, 36, 2, 25, 11, 28,...</td>\n",
       "      <td>[10, 15, 26, 12, 19, 6, 54, 13, 18, 17, 12, 10...</td>\n",
       "      <td>[Event \"Philadelphia op 12th\"]\\n[Site \"Philade...</td>\n",
       "      <td>20.0</td>\n",
       "      <td>NaN</td>\n",
       "      <td>NaN</td>\n",
       "    </tr>\n",
       "    <tr>\n",
       "      <th>2</th>\n",
       "      <td>0</td>\n",
       "      <td>3/29/2018</td>\n",
       "      <td>Philadelphia op 12th</td>\n",
       "      <td>9</td>\n",
       "      <td>3</td>\n",
       "      <td>Gorovets, Andrey</td>\n",
       "      <td>Niemann, Hans Moke</td>\n",
       "      <td>2</td>\n",
       "      <td>2496.0</td>\n",
       "      <td>2302.0</td>\n",
       "      <td>50.0</td>\n",
       "      <td>46.0</td>\n",
       "      <td>28.0</td>\n",
       "      <td>[37, 27, 49, 6, 35, 12, 22, 18, 33, 13, 29, 19...</td>\n",
       "      <td>[10, 43, 23, 4, 20, 10, 12, 3, 9, 24, 10, 49, ...</td>\n",
       "      <td>[22, 29, 10, 15, 16, 0, 0, 41, 16, 7, 0, 73, 1...</td>\n",
       "      <td>[Event \"Philadelphia op 12th\"]\\n[Site \"Philade...</td>\n",
       "      <td>20.0</td>\n",
       "      <td>NaN</td>\n",
       "      <td>NaN</td>\n",
       "    </tr>\n",
       "    <tr>\n",
       "      <th>3</th>\n",
       "      <td>0</td>\n",
       "      <td>3/30/2018</td>\n",
       "      <td>Philadelphia op 12th</td>\n",
       "      <td>9</td>\n",
       "      <td>4</td>\n",
       "      <td>Tang, Andrew</td>\n",
       "      <td>Niemann, Hans Moke</td>\n",
       "      <td>0</td>\n",
       "      <td>2509.0</td>\n",
       "      <td>2302.0</td>\n",
       "      <td>38.0</td>\n",
       "      <td>22.0</td>\n",
       "      <td>38.0</td>\n",
       "      <td>[46, 26, 40, 37, 96, 67, 151, 114, 138, 125, 1...</td>\n",
       "      <td>[20, 3, 29, 37, 13, 51, 24, 33, 8, 45, 10, 31,...</td>\n",
       "      <td>[14, 59, 84, 24, 37, 42, 19, 36, 1, 50, 37, 0,...</td>\n",
       "      <td>[Event \"Philadelphia op 12th\"]\\n[Site \"Philade...</td>\n",
       "      <td>20.0</td>\n",
       "      <td>NaN</td>\n",
       "      <td>NaN</td>\n",
       "    </tr>\n",
       "    <tr>\n",
       "      <th>4</th>\n",
       "      <td>0</td>\n",
       "      <td>3/30/2018</td>\n",
       "      <td>Philadelphia op 12th</td>\n",
       "      <td>9</td>\n",
       "      <td>5</td>\n",
       "      <td>Niemann, Hans Moke</td>\n",
       "      <td>Balakrishnan, Praveen</td>\n",
       "      <td>2</td>\n",
       "      <td>2302.0</td>\n",
       "      <td>2405.0</td>\n",
       "      <td>39.0</td>\n",
       "      <td>23.0</td>\n",
       "      <td>7.0</td>\n",
       "      <td>[35, 27, 48, 23, 36, 20, 46, 8, 25, 31, 38, -5...</td>\n",
       "      <td>[8, 25, 16, 38, 0, 92, 6, 0, 1, 2, 0, 7, 0, 30...</td>\n",
       "      <td>[21, 13, 26, 17, 7, 3, 3, 45, 3, 0, 2, 0, 30, ...</td>\n",
       "      <td>[Event \"Philadelphia op 12th\"]\\n[Site \"Philade...</td>\n",
       "      <td>20.0</td>\n",
       "      <td>NaN</td>\n",
       "      <td>NaN</td>\n",
       "    </tr>\n",
       "  </tbody>\n",
       "</table>\n",
       "</div>"
      ],
      "text/plain": [
       "  Unnamed: 0       Date            Event Name Event Rounds Round  \\\n",
       "0          0  3/28/2018  Philadelphia op 12th            9     1   \n",
       "1          0  3/29/2018  Philadelphia op 12th            9     2   \n",
       "2          0  3/29/2018  Philadelphia op 12th            9     3   \n",
       "3          0  3/30/2018  Philadelphia op 12th            9     4   \n",
       "4          0  3/30/2018  Philadelphia op 12th            9     5   \n",
       "\n",
       "           White Name             Black Name Result  White ELO  Black ELO  \\\n",
       "0  Niemann, Hans Moke         Oberoi, Shelev      0     2302.0     1924.0   \n",
       "1  Niemann, Hans Moke          Popilski, Gil      1     2302.0     2502.0   \n",
       "2    Gorovets, Andrey     Niemann, Hans Moke      2     2496.0     2302.0   \n",
       "3        Tang, Andrew     Niemann, Hans Moke      0     2509.0     2302.0   \n",
       "4  Niemann, Hans Moke  Balakrishnan, Praveen      2     2302.0     2405.0   \n",
       "\n",
       "   Moves  White Av CP Loss  Black Av CP Loss  \\\n",
       "0   39.0              22.0              46.0   \n",
       "1   36.0              12.0              13.0   \n",
       "2   50.0              46.0              28.0   \n",
       "3   38.0              22.0              38.0   \n",
       "4   39.0              23.0               7.0   \n",
       "\n",
       "                                    Evaluations List  \\\n",
       "0  [47, 43, 44, -9, 17, 10, 5, 0, 12, -30, -13, -...   \n",
       "1  [46, 36, 46, 35, 50, 36, 62, 47, 59, 38, 57, 5...   \n",
       "2  [37, 27, 49, 6, 35, 12, 22, 18, 33, 13, 29, 19...   \n",
       "3  [46, 26, 40, 37, 96, 67, 151, 114, 138, 125, 1...   \n",
       "4  [35, 27, 48, 23, 36, 20, 46, 8, 25, 31, 38, -5...   \n",
       "\n",
       "                                  White CP Loss List  \\\n",
       "0  [4, 53, 7, 5, 42, 38, 0, 13, 135, 0, 0, 5, 0, ...   \n",
       "1  [10, 11, 14, 15, 21, 1, 31, 36, 2, 25, 11, 28,...   \n",
       "2  [10, 43, 23, 4, 20, 10, 12, 3, 9, 24, 10, 49, ...   \n",
       "3  [20, 3, 29, 37, 13, 51, 24, 33, 8, 45, 10, 31,...   \n",
       "4  [8, 25, 16, 38, 0, 92, 6, 0, 1, 2, 0, 7, 0, 30...   \n",
       "\n",
       "                                  Black CP Loss List  \\\n",
       "0  [1, 26, 0, 12, 17, 10, 19, 14, 35, 12, 10, 11,...   \n",
       "1  [10, 15, 26, 12, 19, 6, 54, 13, 18, 17, 12, 10...   \n",
       "2  [22, 29, 10, 15, 16, 0, 0, 41, 16, 7, 0, 73, 1...   \n",
       "3  [14, 59, 84, 24, 37, 42, 19, 36, 1, 50, 37, 0,...   \n",
       "4  [21, 13, 26, 17, 7, 3, 3, 45, 3, 0, 2, 0, 30, ...   \n",
       "\n",
       "                                                 PGN  Analysis Depth  \\\n",
       "0  [Event \"Philadelphia op 12th\"]\\n[Site \"Philade...            20.0   \n",
       "1  [Event \"Philadelphia op 12th\"]\\n[Site \"Philade...            20.0   \n",
       "2  [Event \"Philadelphia op 12th\"]\\n[Site \"Philade...            20.0   \n",
       "3  [Event \"Philadelphia op 12th\"]\\n[Site \"Philade...            20.0   \n",
       "4  [Event \"Philadelphia op 12th\"]\\n[Site \"Philade...            20.0   \n",
       "\n",
       "   White Expected Rating by ACPL  Black Expected Rating by ACPL  \n",
       "0                            NaN                            NaN  \n",
       "1                            NaN                            NaN  \n",
       "2                            NaN                            NaN  \n",
       "3                            NaN                            NaN  \n",
       "4                            NaN                            NaN  "
      ]
     },
     "execution_count": 3,
     "metadata": {},
     "output_type": "execute_result"
    }
   ],
   "source": [
    "data.head()"
   ]
  },
  {
   "cell_type": "code",
   "execution_count": 4,
   "id": "4e979d0f",
   "metadata": {
    "scrolled": true
   },
   "outputs": [
    {
     "name": "stdout",
     "output_type": "stream",
     "text": [
      "1    4281\n",
      "0    3703\n",
      "2    2494\n",
      "*       2\n",
      "Name: Result, dtype: int64\n"
     ]
    }
   ],
   "source": [
    "print(data.Result.value_counts())"
   ]
  },
  {
   "cell_type": "markdown",
   "id": "a3624dea",
   "metadata": {},
   "source": [
    "### 3.3 Data cleaning,transforming and organizing\n"
   ]
  },
  {
   "cell_type": "code",
   "execution_count": 5,
   "id": "518786ef",
   "metadata": {},
   "outputs": [
    {
     "data": {
      "text/plain": [
       "Unnamed: 0                        object\n",
       "Date                              object\n",
       "Event Name                        object\n",
       "Event Rounds                      object\n",
       "Round                             object\n",
       "White Name                        object\n",
       "Black Name                        object\n",
       "Result                            object\n",
       "White ELO                        float64\n",
       "Black ELO                        float64\n",
       "Moves                            float64\n",
       "White Av CP Loss                 float64\n",
       "Black Av CP Loss                 float64\n",
       "Evaluations List                  object\n",
       "White CP Loss List                object\n",
       "Black CP Loss List                object\n",
       "PGN                               object\n",
       "Analysis Depth                   float64\n",
       "White Expected Rating by ACPL    float64\n",
       "Black Expected Rating by ACPL    float64\n",
       "dtype: object"
      ]
     },
     "execution_count": 5,
     "metadata": {},
     "output_type": "execute_result"
    }
   ],
   "source": [
    "#Finding out data types for each column in our dataset\n",
    "data.dtypes"
   ]
  },
  {
   "cell_type": "code",
   "execution_count": 6,
   "id": "ed6e46a0",
   "metadata": {},
   "outputs": [
    {
     "data": {
      "text/plain": [
       "Unnamed: 0                           0\n",
       "Date                               110\n",
       "Event Name                         136\n",
       "Event Rounds                       155\n",
       "Round                              142\n",
       "White Name                         142\n",
       "Black Name                         142\n",
       "Result                             142\n",
       "White ELO                          142\n",
       "Black ELO                          142\n",
       "Moves                              142\n",
       "White Av CP Loss                   142\n",
       "Black Av CP Loss                   142\n",
       "Evaluations List                   142\n",
       "White CP Loss List                 142\n",
       "Black CP Loss List                 142\n",
       "PGN                                142\n",
       "Analysis Depth                     143\n",
       "White Expected Rating by ACPL    10608\n",
       "Black Expected Rating by ACPL    10608\n",
       "dtype: int64"
      ]
     },
     "execution_count": 6,
     "metadata": {},
     "output_type": "execute_result"
    }
   ],
   "source": [
    "# Checking for null values in the dataset \n",
    "data.isnull().sum()"
   ]
  },
  {
   "cell_type": "code",
   "execution_count": 7,
   "id": "5bee7fa0",
   "metadata": {},
   "outputs": [],
   "source": [
    "# Defining the indexes of df with null values as players\n",
    "i = data[data['White Name'].isna()].index"
   ]
  },
  {
   "cell_type": "code",
   "execution_count": 8,
   "id": "45db36ab",
   "metadata": {},
   "outputs": [],
   "source": [
    "# Droping the rows were there is no White players name\n",
    "data = data.drop(i)"
   ]
  },
  {
   "cell_type": "code",
   "execution_count": 9,
   "id": "9a5594c7",
   "metadata": {},
   "outputs": [],
   "source": [
    "#droping the strange \"*\" character from every row of the Result column\n",
    "data= data[data[\"Result\"].str.contains(\"\\*\") == False]"
   ]
  },
  {
   "cell_type": "code",
   "execution_count": 10,
   "id": "d40c0a05",
   "metadata": {},
   "outputs": [],
   "source": [
    "# Filling in missing values with the mode (most common value) of that column\n",
    "data['Analysis Depth'] = data['Analysis Depth'].fillna(data['Analysis Depth'].mode()[0])"
   ]
  },
  {
   "cell_type": "code",
   "execution_count": 11,
   "id": "d7ee6167",
   "metadata": {},
   "outputs": [],
   "source": [
    "# Estimating the missing event round with the mode (most common value) of that column\n",
    "data['Event Rounds'] = data['Event Rounds'].fillna(data['Event Rounds'].mode()[0])\n"
   ]
  },
  {
   "cell_type": "code",
   "execution_count": 12,
   "id": "a516fe30",
   "metadata": {},
   "outputs": [
    {
     "data": {
      "text/plain": [
       "Unnamed: 0                           0\n",
       "Date                                 0\n",
       "Event Name                           0\n",
       "Event Rounds                         0\n",
       "Round                                0\n",
       "White Name                           0\n",
       "Black Name                           0\n",
       "Result                               0\n",
       "White ELO                            0\n",
       "Black ELO                            0\n",
       "Moves                                0\n",
       "White Av CP Loss                     0\n",
       "Black Av CP Loss                     0\n",
       "Evaluations List                     0\n",
       "White CP Loss List                   0\n",
       "Black CP Loss List                   0\n",
       "PGN                                  0\n",
       "Analysis Depth                       0\n",
       "White Expected Rating by ACPL    10466\n",
       "Black Expected Rating by ACPL    10466\n",
       "dtype: int64"
      ]
     },
     "execution_count": 12,
     "metadata": {},
     "output_type": "execute_result"
    }
   ],
   "source": [
    "#re-checking the amount of null values\n",
    "data.isnull().sum()"
   ]
  },
  {
   "cell_type": "code",
   "execution_count": 13,
   "id": "a975f2b9",
   "metadata": {},
   "outputs": [],
   "source": [
    "#Droping columns that contain no useful information\n",
    "data = data.drop(columns = ['Unnamed: 0', 'PGN', 'White Expected Rating by ACPL', 'Black Expected Rating by ACPL'])"
   ]
  },
  {
   "cell_type": "code",
   "execution_count": 14,
   "id": "24d20fe6",
   "metadata": {
    "scrolled": true
   },
   "outputs": [
    {
     "data": {
      "text/html": [
       "<div>\n",
       "<style scoped>\n",
       "    .dataframe tbody tr th:only-of-type {\n",
       "        vertical-align: middle;\n",
       "    }\n",
       "\n",
       "    .dataframe tbody tr th {\n",
       "        vertical-align: top;\n",
       "    }\n",
       "\n",
       "    .dataframe thead th {\n",
       "        text-align: right;\n",
       "    }\n",
       "</style>\n",
       "<table border=\"1\" class=\"dataframe\">\n",
       "  <thead>\n",
       "    <tr style=\"text-align: right;\">\n",
       "      <th></th>\n",
       "      <th>White ELO</th>\n",
       "      <th>Black ELO</th>\n",
       "      <th>Moves</th>\n",
       "      <th>White Av CP Loss</th>\n",
       "      <th>Black Av CP Loss</th>\n",
       "      <th>Analysis Depth</th>\n",
       "    </tr>\n",
       "  </thead>\n",
       "  <tbody>\n",
       "    <tr>\n",
       "      <th>count</th>\n",
       "      <td>10478.000000</td>\n",
       "      <td>10478.000000</td>\n",
       "      <td>10478.000000</td>\n",
       "      <td>10478.000000</td>\n",
       "      <td>10478.000000</td>\n",
       "      <td>10478.000000</td>\n",
       "    </tr>\n",
       "    <tr>\n",
       "      <th>mean</th>\n",
       "      <td>2534.930139</td>\n",
       "      <td>2526.249571</td>\n",
       "      <td>44.279156</td>\n",
       "      <td>26.836801</td>\n",
       "      <td>28.504676</td>\n",
       "      <td>20.002291</td>\n",
       "    </tr>\n",
       "    <tr>\n",
       "      <th>std</th>\n",
       "      <td>215.427960</td>\n",
       "      <td>233.380039</td>\n",
       "      <td>17.929716</td>\n",
       "      <td>16.568383</td>\n",
       "      <td>17.720415</td>\n",
       "      <td>0.067648</td>\n",
       "    </tr>\n",
       "    <tr>\n",
       "      <th>min</th>\n",
       "      <td>893.000000</td>\n",
       "      <td>700.000000</td>\n",
       "      <td>0.000000</td>\n",
       "      <td>0.000000</td>\n",
       "      <td>0.000000</td>\n",
       "      <td>20.000000</td>\n",
       "    </tr>\n",
       "    <tr>\n",
       "      <th>25%</th>\n",
       "      <td>2439.000000</td>\n",
       "      <td>2430.000000</td>\n",
       "      <td>33.000000</td>\n",
       "      <td>15.000000</td>\n",
       "      <td>15.000000</td>\n",
       "      <td>20.000000</td>\n",
       "    </tr>\n",
       "    <tr>\n",
       "      <th>50%</th>\n",
       "      <td>2558.000000</td>\n",
       "      <td>2553.000000</td>\n",
       "      <td>41.000000</td>\n",
       "      <td>23.000000</td>\n",
       "      <td>25.000000</td>\n",
       "      <td>20.000000</td>\n",
       "    </tr>\n",
       "    <tr>\n",
       "      <th>75%</th>\n",
       "      <td>2688.000000</td>\n",
       "      <td>2686.000000</td>\n",
       "      <td>54.000000</td>\n",
       "      <td>35.000000</td>\n",
       "      <td>39.000000</td>\n",
       "      <td>20.000000</td>\n",
       "    </tr>\n",
       "    <tr>\n",
       "      <th>max</th>\n",
       "      <td>2882.000000</td>\n",
       "      <td>2882.000000</td>\n",
       "      <td>182.000000</td>\n",
       "      <td>458.000000</td>\n",
       "      <td>476.000000</td>\n",
       "      <td>22.000000</td>\n",
       "    </tr>\n",
       "  </tbody>\n",
       "</table>\n",
       "</div>"
      ],
      "text/plain": [
       "          White ELO     Black ELO         Moves  White Av CP Loss  \\\n",
       "count  10478.000000  10478.000000  10478.000000      10478.000000   \n",
       "mean    2534.930139   2526.249571     44.279156         26.836801   \n",
       "std      215.427960    233.380039     17.929716         16.568383   \n",
       "min      893.000000    700.000000      0.000000          0.000000   \n",
       "25%     2439.000000   2430.000000     33.000000         15.000000   \n",
       "50%     2558.000000   2553.000000     41.000000         23.000000   \n",
       "75%     2688.000000   2686.000000     54.000000         35.000000   \n",
       "max     2882.000000   2882.000000    182.000000        458.000000   \n",
       "\n",
       "       Black Av CP Loss  Analysis Depth  \n",
       "count      10478.000000    10478.000000  \n",
       "mean          28.504676       20.002291  \n",
       "std           17.720415        0.067648  \n",
       "min            0.000000       20.000000  \n",
       "25%           15.000000       20.000000  \n",
       "50%           25.000000       20.000000  \n",
       "75%           39.000000       20.000000  \n",
       "max          476.000000       22.000000  "
      ]
     },
     "execution_count": 14,
     "metadata": {},
     "output_type": "execute_result"
    }
   ],
   "source": [
    "#Having a look at the statistics of the numerical values of df\n",
    "data.describe()"
   ]
  },
  {
   "cell_type": "markdown",
   "id": "1c4318db",
   "metadata": {},
   "source": [
    "# 4. Exploratory Data Analysis (EDA)"
   ]
  },
  {
   "cell_type": "code",
   "execution_count": 15,
   "id": "2b10f35b",
   "metadata": {},
   "outputs": [
    {
     "data": {
      "text/plain": [
       "<AxesSubplot:xlabel='White ELO', ylabel='Black ELO'>"
      ]
     },
     "execution_count": 15,
     "metadata": {},
     "output_type": "execute_result"
    },
    {
     "data": {
      "image/png": "[encoded data removed]",
      "text/plain": [
       "<Figure size 432x288 with 1 Axes>"
      ]
     },
     "metadata": {
      "needs_background": "light"
     },
     "output_type": "display_data"
    }
   ],
   "source": [
    "sns.lineplot(data=data, x=\"White ELO\", y=\"Black ELO\")"
   ]
  },
  {
   "cell_type": "markdown",
   "id": "9878f5ae",
   "metadata": {},
   "source": [
    "This graph indicates that there is a correlation between Black ELO and White ELO which is due to the structure of the ELO system and tournament modes meaning strong players will get paired against strong players"
   ]
  },
  {
   "cell_type": "code",
   "execution_count": 16,
   "id": "2b572998",
   "metadata": {},
   "outputs": [
    {
     "data": {
      "text/plain": [
       "<AxesSubplot:xlabel='White ELO', ylabel='Count'>"
      ]
     },
     "execution_count": 16,
     "metadata": {},
     "output_type": "execute_result"
    },
    {
     "data": {
      "image/png": "[encoded data removed]",
      "text/plain": [
       "<Figure size 432x288 with 1 Axes>"
      ]
     },
     "metadata": {
      "needs_background": "light"
     },
     "output_type": "display_data"
    }
   ],
   "source": [
    "sns.histplot(data['White ELO'])"
   ]
  },
  {
   "cell_type": "code",
   "execution_count": 17,
   "id": "b7e6a772",
   "metadata": {},
   "outputs": [
    {
     "data": {
      "text/plain": [
       "<AxesSubplot:xlabel='Black ELO', ylabel='Count'>"
      ]
     },
     "execution_count": 17,
     "metadata": {},
     "output_type": "execute_result"
    },
    {
     "data": {
      "image/png": "[encoded data removed]",
      "text/plain": [
       "<Figure size 432x288 with 1 Axes>"
      ]
     },
     "metadata": {
      "needs_background": "light"
     },
     "output_type": "display_data"
    }
   ],
   "source": [
    "sns.histplot(data['Black ELO'], alpha=0.8)"
   ]
  },
  {
   "cell_type": "markdown",
   "id": "788f3825",
   "metadata": {},
   "source": [
    "From these histogram plots of playing ELO it can be seen that the sample for ELOs below 2300 is very low"
   ]
  },
  {
   "cell_type": "code",
   "execution_count": 18,
   "id": "2db9b313",
   "metadata": {},
   "outputs": [],
   "source": [
    "#Creating a new column ELO difference.\n",
    "#It is the difference in ELO between the player with the white pieces and player with the black pieces\n",
    "data['ELO_diff'] = data['White ELO']-data['Black ELO']"
   ]
  },
  {
   "cell_type": "code",
   "execution_count": 19,
   "id": "b0d6d710",
   "metadata": {},
   "outputs": [
    {
     "data": {
      "text/html": [
       "<div>\n",
       "<style scoped>\n",
       "    .dataframe tbody tr th:only-of-type {\n",
       "        vertical-align: middle;\n",
       "    }\n",
       "\n",
       "    .dataframe tbody tr th {\n",
       "        vertical-align: top;\n",
       "    }\n",
       "\n",
       "    .dataframe thead th {\n",
       "        text-align: right;\n",
       "    }\n",
       "</style>\n",
       "<table border=\"1\" class=\"dataframe\">\n",
       "  <thead>\n",
       "    <tr style=\"text-align: right;\">\n",
       "      <th></th>\n",
       "      <th>Date</th>\n",
       "      <th>Event Name</th>\n",
       "      <th>Event Rounds</th>\n",
       "      <th>Round</th>\n",
       "      <th>White Name</th>\n",
       "      <th>Black Name</th>\n",
       "      <th>Result</th>\n",
       "      <th>White ELO</th>\n",
       "      <th>Black ELO</th>\n",
       "      <th>Moves</th>\n",
       "      <th>White Av CP Loss</th>\n",
       "      <th>Black Av CP Loss</th>\n",
       "      <th>Evaluations List</th>\n",
       "      <th>White CP Loss List</th>\n",
       "      <th>Black CP Loss List</th>\n",
       "      <th>Analysis Depth</th>\n",
       "      <th>ELO_diff</th>\n",
       "    </tr>\n",
       "  </thead>\n",
       "  <tbody>\n",
       "    <tr>\n",
       "      <th>0</th>\n",
       "      <td>3/28/2018</td>\n",
       "      <td>Philadelphia op 12th</td>\n",
       "      <td>9</td>\n",
       "      <td>1</td>\n",
       "      <td>Niemann, Hans Moke</td>\n",
       "      <td>Oberoi, Shelev</td>\n",
       "      <td>0</td>\n",
       "      <td>2302.0</td>\n",
       "      <td>1924.0</td>\n",
       "      <td>39.0</td>\n",
       "      <td>22.0</td>\n",
       "      <td>46.0</td>\n",
       "      <td>[47, 43, 44, -9, 17, 10, 5, 0, 12, -30, -13, -...</td>\n",
       "      <td>[4, 53, 7, 5, 42, 38, 0, 13, 135, 0, 0, 5, 0, ...</td>\n",
       "      <td>[1, 26, 0, 12, 17, 10, 19, 14, 35, 12, 10, 11,...</td>\n",
       "      <td>20.0</td>\n",
       "      <td>378.0</td>\n",
       "    </tr>\n",
       "    <tr>\n",
       "      <th>1</th>\n",
       "      <td>3/29/2018</td>\n",
       "      <td>Philadelphia op 12th</td>\n",
       "      <td>9</td>\n",
       "      <td>2</td>\n",
       "      <td>Niemann, Hans Moke</td>\n",
       "      <td>Popilski, Gil</td>\n",
       "      <td>1</td>\n",
       "      <td>2302.0</td>\n",
       "      <td>2502.0</td>\n",
       "      <td>36.0</td>\n",
       "      <td>12.0</td>\n",
       "      <td>13.0</td>\n",
       "      <td>[46, 36, 46, 35, 50, 36, 62, 47, 59, 38, 57, 5...</td>\n",
       "      <td>[10, 11, 14, 15, 21, 1, 31, 36, 2, 25, 11, 28,...</td>\n",
       "      <td>[10, 15, 26, 12, 19, 6, 54, 13, 18, 17, 12, 10...</td>\n",
       "      <td>20.0</td>\n",
       "      <td>-200.0</td>\n",
       "    </tr>\n",
       "    <tr>\n",
       "      <th>2</th>\n",
       "      <td>3/29/2018</td>\n",
       "      <td>Philadelphia op 12th</td>\n",
       "      <td>9</td>\n",
       "      <td>3</td>\n",
       "      <td>Gorovets, Andrey</td>\n",
       "      <td>Niemann, Hans Moke</td>\n",
       "      <td>2</td>\n",
       "      <td>2496.0</td>\n",
       "      <td>2302.0</td>\n",
       "      <td>50.0</td>\n",
       "      <td>46.0</td>\n",
       "      <td>28.0</td>\n",
       "      <td>[37, 27, 49, 6, 35, 12, 22, 18, 33, 13, 29, 19...</td>\n",
       "      <td>[10, 43, 23, 4, 20, 10, 12, 3, 9, 24, 10, 49, ...</td>\n",
       "      <td>[22, 29, 10, 15, 16, 0, 0, 41, 16, 7, 0, 73, 1...</td>\n",
       "      <td>20.0</td>\n",
       "      <td>194.0</td>\n",
       "    </tr>\n",
       "    <tr>\n",
       "      <th>3</th>\n",
       "      <td>3/30/2018</td>\n",
       "      <td>Philadelphia op 12th</td>\n",
       "      <td>9</td>\n",
       "      <td>4</td>\n",
       "      <td>Tang, Andrew</td>\n",
       "      <td>Niemann, Hans Moke</td>\n",
       "      <td>0</td>\n",
       "      <td>2509.0</td>\n",
       "      <td>2302.0</td>\n",
       "      <td>38.0</td>\n",
       "      <td>22.0</td>\n",
       "      <td>38.0</td>\n",
       "      <td>[46, 26, 40, 37, 96, 67, 151, 114, 138, 125, 1...</td>\n",
       "      <td>[20, 3, 29, 37, 13, 51, 24, 33, 8, 45, 10, 31,...</td>\n",
       "      <td>[14, 59, 84, 24, 37, 42, 19, 36, 1, 50, 37, 0,...</td>\n",
       "      <td>20.0</td>\n",
       "      <td>207.0</td>\n",
       "    </tr>\n",
       "    <tr>\n",
       "      <th>4</th>\n",
       "      <td>3/30/2018</td>\n",
       "      <td>Philadelphia op 12th</td>\n",
       "      <td>9</td>\n",
       "      <td>5</td>\n",
       "      <td>Niemann, Hans Moke</td>\n",
       "      <td>Balakrishnan, Praveen</td>\n",
       "      <td>2</td>\n",
       "      <td>2302.0</td>\n",
       "      <td>2405.0</td>\n",
       "      <td>39.0</td>\n",
       "      <td>23.0</td>\n",
       "      <td>7.0</td>\n",
       "      <td>[35, 27, 48, 23, 36, 20, 46, 8, 25, 31, 38, -5...</td>\n",
       "      <td>[8, 25, 16, 38, 0, 92, 6, 0, 1, 2, 0, 7, 0, 30...</td>\n",
       "      <td>[21, 13, 26, 17, 7, 3, 3, 45, 3, 0, 2, 0, 30, ...</td>\n",
       "      <td>20.0</td>\n",
       "      <td>-103.0</td>\n",
       "    </tr>\n",
       "  </tbody>\n",
       "</table>\n",
       "</div>"
      ],
      "text/plain": [
       "        Date            Event Name Event Rounds Round          White Name  \\\n",
       "0  3/28/2018  Philadelphia op 12th            9     1  Niemann, Hans Moke   \n",
       "1  3/29/2018  Philadelphia op 12th            9     2  Niemann, Hans Moke   \n",
       "2  3/29/2018  Philadelphia op 12th            9     3    Gorovets, Andrey   \n",
       "3  3/30/2018  Philadelphia op 12th            9     4        Tang, Andrew   \n",
       "4  3/30/2018  Philadelphia op 12th            9     5  Niemann, Hans Moke   \n",
       "\n",
       "              Black Name Result  White ELO  Black ELO  Moves  \\\n",
       "0         Oberoi, Shelev      0     2302.0     1924.0   39.0   \n",
       "1          Popilski, Gil      1     2302.0     2502.0   36.0   \n",
       "2     Niemann, Hans Moke      2     2496.0     2302.0   50.0   \n",
       "3     Niemann, Hans Moke      0     2509.0     2302.0   38.0   \n",
       "4  Balakrishnan, Praveen      2     2302.0     2405.0   39.0   \n",
       "\n",
       "   White Av CP Loss  Black Av CP Loss  \\\n",
       "0              22.0              46.0   \n",
       "1              12.0              13.0   \n",
       "2              46.0              28.0   \n",
       "3              22.0              38.0   \n",
       "4              23.0               7.0   \n",
       "\n",
       "                                    Evaluations List  \\\n",
       "0  [47, 43, 44, -9, 17, 10, 5, 0, 12, -30, -13, -...   \n",
       "1  [46, 36, 46, 35, 50, 36, 62, 47, 59, 38, 57, 5...   \n",
       "2  [37, 27, 49, 6, 35, 12, 22, 18, 33, 13, 29, 19...   \n",
       "3  [46, 26, 40, 37, 96, 67, 151, 114, 138, 125, 1...   \n",
       "4  [35, 27, 48, 23, 36, 20, 46, 8, 25, 31, 38, -5...   \n",
       "\n",
       "                                  White CP Loss List  \\\n",
       "0  [4, 53, 7, 5, 42, 38, 0, 13, 135, 0, 0, 5, 0, ...   \n",
       "1  [10, 11, 14, 15, 21, 1, 31, 36, 2, 25, 11, 28,...   \n",
       "2  [10, 43, 23, 4, 20, 10, 12, 3, 9, 24, 10, 49, ...   \n",
       "3  [20, 3, 29, 37, 13, 51, 24, 33, 8, 45, 10, 31,...   \n",
       "4  [8, 25, 16, 38, 0, 92, 6, 0, 1, 2, 0, 7, 0, 30...   \n",
       "\n",
       "                                  Black CP Loss List  Analysis Depth  ELO_diff  \n",
       "0  [1, 26, 0, 12, 17, 10, 19, 14, 35, 12, 10, 11,...            20.0     378.0  \n",
       "1  [10, 15, 26, 12, 19, 6, 54, 13, 18, 17, 12, 10...            20.0    -200.0  \n",
       "2  [22, 29, 10, 15, 16, 0, 0, 41, 16, 7, 0, 73, 1...            20.0     194.0  \n",
       "3  [14, 59, 84, 24, 37, 42, 19, 36, 1, 50, 37, 0,...            20.0     207.0  \n",
       "4  [21, 13, 26, 17, 7, 3, 3, 45, 3, 0, 2, 0, 30, ...            20.0    -103.0  "
      ]
     },
     "execution_count": 19,
     "metadata": {},
     "output_type": "execute_result"
    }
   ],
   "source": [
    "data.head()"
   ]
  },
  {
   "cell_type": "code",
   "execution_count": 20,
   "id": "96816ba0",
   "metadata": {},
   "outputs": [],
   "source": [
    "#average centipawn loss for the higher rated player \n",
    "acpl_higher = []\n",
    "#average centipawn loss for the lower rated player\n",
    "acpl_lower = []\n",
    "# a method in the pandas library that allows you to iterate over the rows of a DataFrame\n",
    "for index, row in data.iterrows():\n",
    "    if row['ELO_diff'] >= 0:\n",
    "        acpl_higher.append(row['White Av CP Loss'])\n",
    "        acpl_lower.append(row['Black Av CP Loss'])\n",
    "    elif row['ELO_diff'] < 0:\n",
    "        acpl_lower.append(row['White Av CP Loss'])\n",
    "        acpl_higher.append(row['Black Av CP Loss'])"
   ]
  },
  {
   "cell_type": "code",
   "execution_count": 21,
   "id": "27aa05db",
   "metadata": {},
   "outputs": [
    {
     "name": "stdout",
     "output_type": "stream",
     "text": [
      "The average CP loss of the higher rated player was 24.55, while the lower rated player had a CP loss of 30.79\n"
     ]
    }
   ],
   "source": [
    "print(f'The average CP loss of the higher rated player was {np.round(np.mean(acpl_higher),2)}, while the lower rated player had a CP loss of {np.round(np.mean(acpl_lower),2)}') "
   ]
  },
  {
   "cell_type": "code",
   "execution_count": 22,
   "id": "1811cf3e",
   "metadata": {},
   "outputs": [],
   "source": [
    "data['ACPL Lower'] = acpl_lower\n",
    "data['ACPL Higher'] = acpl_higher "
   ]
  },
  {
   "cell_type": "code",
   "execution_count": 23,
   "id": "f46d4789",
   "metadata": {},
   "outputs": [
    {
     "data": {
      "text/plain": [
       "Text(0.5, 1.0, 'Higher Rated Player')"
      ]
     },
     "execution_count": 23,
     "metadata": {},
     "output_type": "execute_result"
    },
    {
     "data": {
      "image/png": "[encoded data removed]",
      "text/plain": [
       "<Figure size 432x288 with 1 Axes>"
      ]
     },
     "metadata": {
      "needs_background": "light"
     },
     "output_type": "display_data"
    }
   ],
   "source": [
    "p = sns.lineplot(data=data, x='ELO_diff', y='ACPL Higher')\n",
    "p.set(ylim=(0, 120), xlim=(-600, 600))\n",
    "p.set_title('Higher Rated Player')"
   ]
  },
  {
   "cell_type": "code",
   "execution_count": 24,
   "id": "232a2fd2",
   "metadata": {},
   "outputs": [
    {
     "data": {
      "text/plain": [
       "Text(0.5, 1.0, 'Lower Rated Player')"
      ]
     },
     "execution_count": 24,
     "metadata": {},
     "output_type": "execute_result"
    },
    {
     "data": {
      "image/png": "[encoded data removed]",
      "text/plain": [
       "<Figure size 432x288 with 1 Axes>"
      ]
     },
     "metadata": {
      "needs_background": "light"
     },
     "output_type": "display_data"
    }
   ],
   "source": [
    "l = sns.lineplot(data=data, x='ELO_diff', y='ACPL Lower')\n",
    "l.set(ylim=(0, 120), xlim=(-600, 600))\n",
    "l.set_title('Lower Rated Player')"
   ]
  },
  {
   "cell_type": "markdown",
   "id": "4a7202fb",
   "metadata": {},
   "source": [
    "In the case of the lower rated player the ELO difference matters much more than for the higher ELO player, who seems to have more or less the same accuracy whether playing against a player with similiar ELO or a weaker player.\n",
    "\n"
   ]
  },
  {
   "cell_type": "markdown",
   "id": "60747662",
   "metadata": {},
   "source": [
    "# 5. Model Building"
   ]
  },
  {
   "cell_type": "markdown",
   "id": "d460df74",
   "metadata": {},
   "source": [
    "We can start building our machine learning models. We are going to use several different machine learning models and compare their performance.The models that are going to be used are as follows:\n",
    "\n",
    "- Logistic Regression is a simple and widely-used classification algorithm that is suitable for classification tasks. It is a linear model that uses an equation to make predictions based on the input features, and it is easy to interpret and implement.\n",
    "\n",
    "- A Decision Tree is a type of machine learning algorithm used for classification and regression tasks. It creates a tree-like model of decisions and their possible consequences, with each internal node representing a feature or attribute, and each leaf node representing a class label.\n",
    "\n",
    "- Random forest is an ensemble learning method for classification, regression and other tasks, that operate by constructing a multitude of decision trees at training time and outputting the class that is the mode of the classes (classification) or mean prediction of the individual trees. The idea behind random forest is to decorrelate the trees by training them on different subsets of the data, and to average their predictions. This reduces overfitting and improves the overall performance of the model."
   ]
  },
  {
   "cell_type": "code",
   "execution_count": 25,
   "id": "38c91da7",
   "metadata": {},
   "outputs": [],
   "source": [
    "#appending every feature of type object to a list for further processing\n",
    "object_features_list=[]\n",
    "for element in data.columns:\n",
    "    if((data[element].dtypes=='object') & (element!='Result')):\n",
    "        object_features_list.append(element)"
   ]
  },
  {
   "cell_type": "code",
   "execution_count": 26,
   "id": "a4978244",
   "metadata": {},
   "outputs": [],
   "source": [
    "labelencoder=LabelEncoder()"
   ]
  },
  {
   "cell_type": "code",
   "execution_count": 27,
   "id": "17b741df",
   "metadata": {},
   "outputs": [],
   "source": [
    "# transforming non-numerical labels to numerical labels\n",
    "for element in object_features_list:\n",
    "    data[element]=labelencoder.fit_transform(data[element])"
   ]
  },
  {
   "cell_type": "code",
   "execution_count": 28,
   "id": "267feb9c",
   "metadata": {},
   "outputs": [
    {
     "data": {
      "text/plain": [
       "Date                    int32\n",
       "Event Name              int32\n",
       "Event Rounds            int32\n",
       "Round                   int32\n",
       "White Name              int32\n",
       "Black Name              int32\n",
       "Result                 object\n",
       "White ELO             float64\n",
       "Black ELO             float64\n",
       "Moves                 float64\n",
       "White Av CP Loss      float64\n",
       "Black Av CP Loss      float64\n",
       "Evaluations List        int32\n",
       "White CP Loss List      int32\n",
       "Black CP Loss List      int32\n",
       "Analysis Depth        float64\n",
       "ELO_diff              float64\n",
       "ACPL Lower            float64\n",
       "ACPL Higher           float64\n",
       "dtype: object"
      ]
     },
     "execution_count": 28,
     "metadata": {},
     "output_type": "execute_result"
    }
   ],
   "source": [
    "#no more object type data(except Result) in the dataset since labelencoder transformed them\n",
    "data.dtypes"
   ]
  },
  {
   "cell_type": "code",
   "execution_count": 29,
   "id": "9cc2a7db",
   "metadata": {},
   "outputs": [],
   "source": [
    "#assigning x all the features\n",
    "x = data.drop(columns=['Result'])\n",
    "#assinging y the labels\n",
    "y = data['Result']"
   ]
  },
  {
   "cell_type": "markdown",
   "id": "2870b9f9",
   "metadata": {},
   "source": [
    "### 5.1 Splitting the data"
   ]
  },
  {
   "cell_type": "code",
   "execution_count": 30,
   "id": "911db413",
   "metadata": {},
   "outputs": [],
   "source": [
    "xtrain, xtest, ytrain, ytest = train_test_split(x, y, test_size=0.30, random_state=42)"
   ]
  },
  {
   "cell_type": "markdown",
   "id": "e09bafce",
   "metadata": {},
   "source": [
    "### 5.2 Logistic Regression"
   ]
  },
  {
   "cell_type": "code",
   "execution_count": 31,
   "id": "64da9743",
   "metadata": {},
   "outputs": [],
   "source": [
    "lr_model=LogisticRegression(multi_class='multinomial',solver='newton-cg')\n",
    "lr_model.fit(xtrain, ytrain)\n",
    "y_lr_train_pred = lr_model.predict(xtrain)\n",
    "y_lr_test_pred = lr_model.predict(xtest)"
   ]
  },
  {
   "cell_type": "code",
   "execution_count": 32,
   "id": "13e38a3a",
   "metadata": {},
   "outputs": [
    {
     "name": "stdout",
     "output_type": "stream",
     "text": [
      "Train score 0.9607308426506681\n",
      "Test score 0.9675572519083969\n"
     ]
    }
   ],
   "source": [
    "print(f'Train score {accuracy_score(y_lr_train_pred,ytrain)}')\n",
    "print(f'Test score {accuracy_score(y_lr_test_pred,ytest)}')"
   ]
  },
  {
   "cell_type": "code",
   "execution_count": 33,
   "id": "89c15173",
   "metadata": {},
   "outputs": [
    {
     "name": "stdout",
     "output_type": "stream",
     "text": [
      "              precision    recall  f1-score   support\n",
      "\n",
      "           0       0.99      0.97      0.98      1115\n",
      "           1       0.95      0.98      0.96      1311\n",
      "           2       0.97      0.95      0.96       718\n",
      "\n",
      "    accuracy                           0.97      3144\n",
      "   macro avg       0.97      0.97      0.97      3144\n",
      "weighted avg       0.97      0.97      0.97      3144\n",
      "\n"
     ]
    }
   ],
   "source": [
    "print(classification_report(ytest, y_lr_test_pred))"
   ]
  },
  {
   "cell_type": "markdown",
   "id": "5e5cca4e",
   "metadata": {},
   "source": [
    "##### 5.2.1 Confusion Matrix"
   ]
  },
  {
   "cell_type": "code",
   "execution_count": 34,
   "id": "630b480d",
   "metadata": {},
   "outputs": [],
   "source": [
    "#function for ploting the confusion matrix\n",
    "def plot_confusionmatrix(ytrain_pred,ytrain,dom):\n",
    "    print(f'{dom} confusion matrix')\n",
    "    cf = confusion_matrix(ytrain_pred,ytrain)\n",
    "    sns.heatmap(cf,annot=True,cmap='Blues',fmt='g')\n",
    "    plt.tight_layout()\n",
    "    plt.show()"
   ]
  },
  {
   "cell_type": "code",
   "execution_count": 35,
   "id": "fe899895",
   "metadata": {},
   "outputs": [
    {
     "name": "stdout",
     "output_type": "stream",
     "text": [
      "Train confusion matrix\n"
     ]
    },
    {
     "data": {
      "image/png": "[encoded data removed]",
      "text/plain": [
       "<Figure size 432x288 with 2 Axes>"
      ]
     },
     "metadata": {
      "needs_background": "light"
     },
     "output_type": "display_data"
    },
    {
     "name": "stdout",
     "output_type": "stream",
     "text": [
      "Test confusion matrix\n"
     ]
    },
    {
     "data": {
      "image/png": "[encoded data removed]",
      "text/plain": [
       "<Figure size 432x288 with 2 Axes>"
      ]
     },
     "metadata": {
      "needs_background": "light"
     },
     "output_type": "display_data"
    }
   ],
   "source": [
    "plot_confusionmatrix(y_lr_train_pred,ytrain,dom='Train')\n",
    "plot_confusionmatrix(y_lr_test_pred,ytest,dom='Test')"
   ]
  },
  {
   "cell_type": "markdown",
   "id": "66fc9bf5",
   "metadata": {},
   "source": [
    "##### 5.2.2 Cross Validation"
   ]
  },
  {
   "cell_type": "code",
   "execution_count": 36,
   "id": "c39ce758",
   "metadata": {},
   "outputs": [
    {
     "name": "stdout",
     "output_type": "stream",
     "text": [
      "Mean score: 0.959\n",
      "Standard deviation: 0.009\n"
     ]
    }
   ],
   "source": [
    "# Perform 10-fold cross-validation on the model\n",
    "scores = cross_val_score(lr_model, xtrain, ytrain, cv=10)\n",
    "\n",
    "# Print the mean and standard deviation of the scores\n",
    "print(f'Mean score: {scores.mean():.3f}')\n",
    "print(f'Standard deviation: {scores.std():.3f}')\n"
   ]
  },
  {
   "cell_type": "markdown",
   "id": "cbb0182f",
   "metadata": {},
   "source": [
    "### 5.3 Decision Tree Classifier"
   ]
  },
  {
   "cell_type": "code",
   "execution_count": 37,
   "id": "8e75b7b5",
   "metadata": {},
   "outputs": [],
   "source": [
    "dtc_model = tree.DecisionTreeClassifier(random_state=0)\n",
    "dtc_model.fit(xtrain,ytrain)\n",
    "y_dtc_train_pred = dtc_model.predict(xtrain)\n",
    "y_dtc_test_pred = dtc_model.predict(xtest)"
   ]
  },
  {
   "cell_type": "code",
   "execution_count": 38,
   "id": "3442a1b6",
   "metadata": {},
   "outputs": [
    {
     "name": "stdout",
     "output_type": "stream",
     "text": [
      "Train score 1.0\n",
      "Test score 0.9243002544529262\n"
     ]
    }
   ],
   "source": [
    "print(f'Train score {accuracy_score(y_dtc_train_pred,ytrain)}')\n",
    "print(f'Test score {accuracy_score(y_dtc_test_pred,ytest)}')"
   ]
  },
  {
   "cell_type": "code",
   "execution_count": 39,
   "id": "b94ee8cd",
   "metadata": {},
   "outputs": [
    {
     "name": "stdout",
     "output_type": "stream",
     "text": [
      "              precision    recall  f1-score   support\n",
      "\n",
      "           0       0.93      0.94      0.93      1115\n",
      "           1       0.92      0.91      0.92      1311\n",
      "           2       0.93      0.92      0.93       718\n",
      "\n",
      "    accuracy                           0.92      3144\n",
      "   macro avg       0.93      0.92      0.92      3144\n",
      "weighted avg       0.92      0.92      0.92      3144\n",
      "\n"
     ]
    }
   ],
   "source": [
    "print(classification_report(ytest, y_dtc_test_pred))"
   ]
  },
  {
   "cell_type": "markdown",
   "id": "4f91fe57",
   "metadata": {},
   "source": [
    "##### 5.3.1 Confusion Matrix "
   ]
  },
  {
   "cell_type": "code",
   "execution_count": 40,
   "id": "84b389b1",
   "metadata": {},
   "outputs": [
    {
     "name": "stdout",
     "output_type": "stream",
     "text": [
      "Train data confusion matrix\n"
     ]
    },
    {
     "data": {
      "image/png": "[encoded data removed]",
      "text/plain": [
       "<Figure size 432x288 with 2 Axes>"
      ]
     },
     "metadata": {
      "needs_background": "light"
     },
     "output_type": "display_data"
    },
    {
     "name": "stdout",
     "output_type": "stream",
     "text": [
      "Test data confusion matrix\n"
     ]
    },
    {
     "data": {
      "image/png": "[encoded data removed]",
      "text/plain": [
       "<Figure size 432x288 with 2 Axes>"
      ]
     },
     "metadata": {
      "needs_background": "light"
     },
     "output_type": "display_data"
    }
   ],
   "source": [
    "plot_confusionmatrix(y_dtc_train_pred,ytrain,dom='Train data')\n",
    "plot_confusionmatrix(y_dtc_test_pred,ytest,dom='Test data')"
   ]
  },
  {
   "cell_type": "markdown",
   "id": "7c7fff54",
   "metadata": {},
   "source": [
    "##### 5.3.2 Cross Validation"
   ]
  },
  {
   "cell_type": "code",
   "execution_count": 41,
   "id": "64019090",
   "metadata": {},
   "outputs": [
    {
     "name": "stdout",
     "output_type": "stream",
     "text": [
      "Mean score: 0.925\n",
      "Standard deviation: 0.009\n"
     ]
    }
   ],
   "source": [
    "# Perform 10-fold cross-validation on the model\n",
    "scores = cross_val_score(dtc_model, xtrain, ytrain, cv=10)\n",
    "\n",
    "# Print the mean and standard deviation of the scores\n",
    "print(f'Mean score: {scores.mean():.3f}')\n",
    "print(f'Standard deviation: {scores.std():.3f}')"
   ]
  },
  {
   "cell_type": "markdown",
   "id": "cd27a24d",
   "metadata": {},
   "source": [
    "##### 5.3.3 Hyperparameter tuning"
   ]
  },
  {
   "cell_type": "code",
   "execution_count": 42,
   "id": "2063dc82",
   "metadata": {},
   "outputs": [
    {
     "data": {
      "text/plain": [
       "GridSearchCV(estimator=DecisionTreeClassifier(),\n",
       "             param_grid={'max_depth': [2, 4, 6, 8, 10, 12],\n",
       "                         'min_samples_leaf': [1, 2],\n",
       "                         'min_samples_split': [2, 3, 4]})"
      ]
     },
     "execution_count": 42,
     "metadata": {},
     "output_type": "execute_result"
    }
   ],
   "source": [
    "params = {'max_depth':[2,4,6,8,10,12],\n",
    "         'min_samples_split':[2,3,4],\n",
    "         'min_samples_leaf':[1,2]}\n",
    "dtc_model = tree.DecisionTreeClassifier()\n",
    "gcv = GridSearchCV(estimator=dtc_model,param_grid=params)\n",
    "gcv.fit(xtrain,ytrain)"
   ]
  },
  {
   "cell_type": "code",
   "execution_count": 43,
   "id": "35e5b075",
   "metadata": {},
   "outputs": [
    {
     "name": "stdout",
     "output_type": "stream",
     "text": [
      "Train score 0.9721843468775566\n",
      "Test score 0.9395674300254453\n"
     ]
    }
   ],
   "source": [
    "gcv_model = gcv.best_estimator_\n",
    "gcv_model.fit(xtrain,ytrain)\n",
    "y_gcv_train_pred = gcv_model.predict(xtrain)\n",
    "y_gcv_test_pred = gcv_model.predict(xtest)\n",
    "print(f'Train score {accuracy_score(y_gcv_train_pred,ytrain)}')\n",
    "print(f'Test score {accuracy_score(y_gcv_test_pred,ytest)}')"
   ]
  },
  {
   "cell_type": "markdown",
   "id": "258d62cc",
   "metadata": {},
   "source": [
    "##### 5.3.3.1 Tuned Confusion Matrix"
   ]
  },
  {
   "cell_type": "code",
   "execution_count": 44,
   "id": "e3cd2225",
   "metadata": {},
   "outputs": [
    {
     "name": "stdout",
     "output_type": "stream",
     "text": [
      "Train confusion matrix\n"
     ]
    },
    {
     "data": {
      "image/png": "[encoded data removed]",
      "text/plain": [
       "<Figure size 432x288 with 2 Axes>"
      ]
     },
     "metadata": {
      "needs_background": "light"
     },
     "output_type": "display_data"
    },
    {
     "name": "stdout",
     "output_type": "stream",
     "text": [
      "Test confusion matrix\n"
     ]
    },
    {
     "data": {
      "image/png": "[encoded data removed]",
      "text/plain": [
       "<Figure size 432x288 with 2 Axes>"
      ]
     },
     "metadata": {
      "needs_background": "light"
     },
     "output_type": "display_data"
    }
   ],
   "source": [
    "plot_confusionmatrix(y_gcv_train_pred,ytrain,dom='Train')\n",
    "plot_confusionmatrix(y_gcv_test_pred,ytest,dom='Test')"
   ]
  },
  {
   "cell_type": "markdown",
   "id": "d60f1f32",
   "metadata": {},
   "source": [
    "### 5.4 Random Forest Classifier"
   ]
  },
  {
   "cell_type": "code",
   "execution_count": 45,
   "id": "dcff6551",
   "metadata": {},
   "outputs": [],
   "source": [
    "rf_model = RandomForestClassifier()\n",
    "rf_model.fit(xtrain, ytrain)\n",
    "y_rf_train_pred = rf_model.predict(xtrain)\n",
    "y_rf_test_pred = rf_model.predict(xtest)"
   ]
  },
  {
   "cell_type": "code",
   "execution_count": 46,
   "id": "02377ef5",
   "metadata": {},
   "outputs": [
    {
     "name": "stdout",
     "output_type": "stream",
     "text": [
      "Train score 1.0\n",
      "Test score 0.960559796437659\n"
     ]
    }
   ],
   "source": [
    "print(f'Train score {accuracy_score(y_rf_train_pred,ytrain)}')\n",
    "print(f'Test score {accuracy_score(y_rf_test_pred,ytest)}')"
   ]
  },
  {
   "cell_type": "code",
   "execution_count": 47,
   "id": "a59fd70e",
   "metadata": {},
   "outputs": [
    {
     "name": "stdout",
     "output_type": "stream",
     "text": [
      "              precision    recall  f1-score   support\n",
      "\n",
      "           0       0.97      0.97      0.97      1115\n",
      "           1       0.96      0.95      0.95      1311\n",
      "           2       0.96      0.96      0.96       718\n",
      "\n",
      "    accuracy                           0.96      3144\n",
      "   macro avg       0.96      0.96      0.96      3144\n",
      "weighted avg       0.96      0.96      0.96      3144\n",
      "\n"
     ]
    }
   ],
   "source": [
    "print(classification_report(ytest, y_rf_test_pred))"
   ]
  },
  {
   "cell_type": "markdown",
   "id": "cac226fe",
   "metadata": {},
   "source": [
    "##### 5.4.1 Confusion Matrix"
   ]
  },
  {
   "cell_type": "code",
   "execution_count": 48,
   "id": "655985c1",
   "metadata": {},
   "outputs": [
    {
     "name": "stdout",
     "output_type": "stream",
     "text": [
      "Train data confusion matrix\n"
     ]
    },
    {
     "data": {
      "image/png": "[encoded data removed]",
      "text/plain": [
       "<Figure size 432x288 with 2 Axes>"
      ]
     },
     "metadata": {
      "needs_background": "light"
     },
     "output_type": "display_data"
    },
    {
     "name": "stdout",
     "output_type": "stream",
     "text": [
      "Test data confusion matrix\n"
     ]
    },
    {
     "data": {
      "image/png": "[encoded data removed]",
      "text/plain": [
       "<Figure size 432x288 with 2 Axes>"
      ]
     },
     "metadata": {
      "needs_background": "light"
     },
     "output_type": "display_data"
    }
   ],
   "source": [
    "plot_confusionmatrix(y_rf_train_pred,ytrain,dom='Train data')\n",
    "plot_confusionmatrix(y_rf_test_pred,ytest,dom='Test data')"
   ]
  },
  {
   "cell_type": "markdown",
   "id": "05376640",
   "metadata": {},
   "source": [
    "##### 5.4.2 Cross Validation"
   ]
  },
  {
   "cell_type": "code",
   "execution_count": 49,
   "id": "9a2d0467",
   "metadata": {},
   "outputs": [
    {
     "name": "stdout",
     "output_type": "stream",
     "text": [
      "Mean score: 0.955\n",
      "Standard deviation: 0.007\n"
     ]
    }
   ],
   "source": [
    "# Perform 10-fold cross-validation on the model\n",
    "scores = cross_val_score(rf_model, xtrain, ytrain, cv=10)\n",
    "\n",
    "# Print the mean and standard deviation of the scores\n",
    "print(f'Mean score: {scores.mean():.3f}')\n",
    "print(f'Standard deviation: {scores.std():.3f}')"
   ]
  },
  {
   "cell_type": "markdown",
   "id": "aad8951f",
   "metadata": {},
   "source": [
    "# 6. Conclusions"
   ]
  },
  {
   "cell_type": "markdown",
   "id": "a1ecdfc0",
   "metadata": {},
   "source": [
    "In this project, we tried to build a chess games outcome predicotr using machine learning techniques.The first step was collecting and preprocessing the data.After that exploring the data to gain insights and find patterns.Several different machine learning models were tried and tested.Their performance was compared using cross-validation and evaluation metrics such as accuracy, precision, recall, and f1-score. Finally, tuning the hyperparameters of the Decision Tree Classifier model to improve its performance. The tuned Decission Tree Classifier model achieved an accuracy  93.7% on the test data from 92.4% before tuning. Logistic Regression and Random Forest Classifier both achieved ~96% accuracy."
   ]
  },
  {
   "cell_type": "markdown",
   "id": "54f3f9d2",
   "metadata": {},
   "source": [
    "### 6.1 Self-critical Assessment"
   ]
  },
  {
   "cell_type": "markdown",
   "id": "e96f0af7",
   "metadata": {},
   "source": [
    "One of the most challenging aspects of this project was preprocessing the text data. Cleaning and preparing the dataset for analysis required a lot of effort and time. However, this was also one of the strong aspects of our analysis, as the quality of the input data greatly affects the accuracy of the model.\n",
    "Another strong aspect of the analysis was the comprehensive evaluation of multiple machine learning models. By comparing the performance of different models, we were able to choose the best one for our dataset.In our case Logistic Regression and Random Forest Classifier both achieved a comparable accuracy of ~96% which is considered very good for this task.\n",
    "A weak point of this approach was the lack of fine-tuning the hyperparameters of the chosen models. While some hyperparameter tuning for Decision Tree Classifier was done,the other models did not go through this process.Even though the other models had a very good accuracy of 96%,hyperparameter tuning may have increased it even more.\n",
    "Additionally a larger and more diverse dataset cpuld have been used to improve the generalizability of our model."
   ]
  }
 ],
 "metadata": {
  "kernelspec": {
   "display_name": "Python 3 (ipykernel)",
   "language": "python",
   "name": "python3"
  },
  "language_info": {
   "codemirror_mode": {
    "name": "ipython",
    "version": 3
   },
   "file_extension": ".py",
   "mimetype": "text/x-python",
   "name": "python",
   "nbconvert_exporter": "python",
   "pygments_lexer": "ipython3",
   "version": "3.9.12"
  }
 },
 "nbformat": 4,
 "nbformat_minor": 5
}
